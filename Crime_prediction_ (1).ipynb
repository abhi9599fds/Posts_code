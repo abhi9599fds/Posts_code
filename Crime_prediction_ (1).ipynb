{
  "nbformat": 4,
  "nbformat_minor": 0,
  "metadata": {
    "colab": {
      "name": "Crime_prediction .ipynb",
      "provenance": [],
      "collapsed_sections": []
    },
    "kernelspec": {
      "name": "python3",
      "display_name": "Python 3"
    }
  },
  "cells": [
    {
      "cell_type": "code",
      "metadata": {
        "id": "p-dXzke3YDle",
        "colab_type": "code",
        "outputId": "f87e8dcf-6c18-4651-e389-c907a9507197",
        "colab": {
          "base_uri": "https://localhost:8080/",
          "height": 71
        }
      },
      "source": [
        "import pandas as pd\n",
        "import numpy as np\n",
        "import matplotlib.pyplot as plt\n",
        "import seaborn as sns"
      ],
      "execution_count": 2,
      "outputs": [
        {
          "output_type": "stream",
          "text": [
            "/usr/local/lib/python3.6/dist-packages/statsmodels/tools/_testing.py:19: FutureWarning: pandas.util.testing is deprecated. Use the functions in the public API at pandas.testing instead.\n",
            "  import pandas.util.testing as tm\n"
          ],
          "name": "stderr"
        }
      ]
    },
    {
      "cell_type": "code",
      "metadata": {
        "id": "HeWxywdeY-X6",
        "colab_type": "code",
        "outputId": "16f20077-77b1-4961-bfc8-1d4190ff162d",
        "colab": {
          "base_uri": "https://localhost:8080/",
          "height": 131
        }
      },
      "source": [
        "df = pd.read_csv('train.csv')\n",
        "df.head(2)"
      ],
      "execution_count": 3,
      "outputs": [
        {
          "output_type": "execute_result",
          "data": {
            "text/html": [
              "<div>\n",
              "<style scoped>\n",
              "    .dataframe tbody tr th:only-of-type {\n",
              "        vertical-align: middle;\n",
              "    }\n",
              "\n",
              "    .dataframe tbody tr th {\n",
              "        vertical-align: top;\n",
              "    }\n",
              "\n",
              "    .dataframe thead th {\n",
              "        text-align: right;\n",
              "    }\n",
              "</style>\n",
              "<table border=\"1\" class=\"dataframe\">\n",
              "  <thead>\n",
              "    <tr style=\"text-align: right;\">\n",
              "      <th></th>\n",
              "      <th>PERID</th>\n",
              "      <th>IFATHER</th>\n",
              "      <th>NRCH17_2</th>\n",
              "      <th>IRHHSIZ2</th>\n",
              "      <th>IIHHSIZ2</th>\n",
              "      <th>IRKI17_2</th>\n",
              "      <th>IIKI17_2</th>\n",
              "      <th>IRHH65_2</th>\n",
              "      <th>IIHH65_2</th>\n",
              "      <th>PRXRETRY</th>\n",
              "      <th>PRXYDATA</th>\n",
              "      <th>MEDICARE</th>\n",
              "      <th>CAIDCHIP</th>\n",
              "      <th>CHAMPUS</th>\n",
              "      <th>PRVHLTIN</th>\n",
              "      <th>GRPHLTIN</th>\n",
              "      <th>HLTINNOS</th>\n",
              "      <th>HLCNOTYR</th>\n",
              "      <th>HLCNOTMO</th>\n",
              "      <th>HLCLAST</th>\n",
              "      <th>HLLOSRSN</th>\n",
              "      <th>HLNVCOST</th>\n",
              "      <th>HLNVOFFR</th>\n",
              "      <th>HLNVREF</th>\n",
              "      <th>HLNVNEED</th>\n",
              "      <th>HLNVSOR</th>\n",
              "      <th>IRMCDCHP</th>\n",
              "      <th>IIMCDCHP</th>\n",
              "      <th>IRMEDICR</th>\n",
              "      <th>IIMEDICR</th>\n",
              "      <th>IRCHMPUS</th>\n",
              "      <th>IICHMPUS</th>\n",
              "      <th>IRPRVHLT</th>\n",
              "      <th>IIPRVHLT</th>\n",
              "      <th>IROTHHLT</th>\n",
              "      <th>IIOTHHLT</th>\n",
              "      <th>HLCALLFG</th>\n",
              "      <th>HLCALL99</th>\n",
              "      <th>ANYHLTI2</th>\n",
              "      <th>IRINSUR4</th>\n",
              "      <th>IIINSUR4</th>\n",
              "      <th>OTHINS</th>\n",
              "      <th>CELLNOTCL</th>\n",
              "      <th>CELLWRKNG</th>\n",
              "      <th>IRFAMSOC</th>\n",
              "      <th>IIFAMSOC</th>\n",
              "      <th>IRFAMSSI</th>\n",
              "      <th>IIFAMSSI</th>\n",
              "      <th>IRFSTAMP</th>\n",
              "      <th>IIFSTAMP</th>\n",
              "      <th>IRFAMPMT</th>\n",
              "      <th>IIFAMPMT</th>\n",
              "      <th>IRFAMSVC</th>\n",
              "      <th>IIFAMSVC</th>\n",
              "      <th>IRWELMOS</th>\n",
              "      <th>IIWELMOS</th>\n",
              "      <th>IRPINC3</th>\n",
              "      <th>IRFAMIN3</th>\n",
              "      <th>IIPINC3</th>\n",
              "      <th>IIFAMIN3</th>\n",
              "      <th>GOVTPROG</th>\n",
              "      <th>POVERTY3</th>\n",
              "      <th>TOOLONG</th>\n",
              "      <th>TROUBUND</th>\n",
              "      <th>PDEN10</th>\n",
              "      <th>COUTYP2</th>\n",
              "      <th>MAIIN102</th>\n",
              "      <th>AIIND102</th>\n",
              "      <th>ANALWT_C</th>\n",
              "      <th>VESTR</th>\n",
              "      <th>VEREP</th>\n",
              "      <th>Criminal</th>\n",
              "    </tr>\n",
              "  </thead>\n",
              "  <tbody>\n",
              "    <tr>\n",
              "      <th>0</th>\n",
              "      <td>25095143</td>\n",
              "      <td>4</td>\n",
              "      <td>2</td>\n",
              "      <td>4</td>\n",
              "      <td>1</td>\n",
              "      <td>3</td>\n",
              "      <td>1</td>\n",
              "      <td>1</td>\n",
              "      <td>1</td>\n",
              "      <td>99</td>\n",
              "      <td>99</td>\n",
              "      <td>2</td>\n",
              "      <td>1</td>\n",
              "      <td>2</td>\n",
              "      <td>2</td>\n",
              "      <td>99</td>\n",
              "      <td>99</td>\n",
              "      <td>2</td>\n",
              "      <td>99</td>\n",
              "      <td>99</td>\n",
              "      <td>99</td>\n",
              "      <td>99.0</td>\n",
              "      <td>99.0</td>\n",
              "      <td>99.0</td>\n",
              "      <td>99.0</td>\n",
              "      <td>99.0</td>\n",
              "      <td>1.0</td>\n",
              "      <td>1.0</td>\n",
              "      <td>2.0</td>\n",
              "      <td>1.0</td>\n",
              "      <td>2.0</td>\n",
              "      <td>1.0</td>\n",
              "      <td>2.0</td>\n",
              "      <td>1.0</td>\n",
              "      <td>99.0</td>\n",
              "      <td>9.0</td>\n",
              "      <td>98.0</td>\n",
              "      <td>98.0</td>\n",
              "      <td>1.0</td>\n",
              "      <td>1.0</td>\n",
              "      <td>1.0</td>\n",
              "      <td>2.0</td>\n",
              "      <td>1.0</td>\n",
              "      <td>1.0</td>\n",
              "      <td>2.0</td>\n",
              "      <td>1.0</td>\n",
              "      <td>2.0</td>\n",
              "      <td>1.0</td>\n",
              "      <td>1.0</td>\n",
              "      <td>1.0</td>\n",
              "      <td>2.0</td>\n",
              "      <td>1.0</td>\n",
              "      <td>2.0</td>\n",
              "      <td>1.0</td>\n",
              "      <td>99.0</td>\n",
              "      <td>9.0</td>\n",
              "      <td>1.0</td>\n",
              "      <td>4.0</td>\n",
              "      <td>1.0</td>\n",
              "      <td>1.0</td>\n",
              "      <td>1.0</td>\n",
              "      <td>2.0</td>\n",
              "      <td>1.0</td>\n",
              "      <td>2.0</td>\n",
              "      <td>1.0</td>\n",
              "      <td>1.0</td>\n",
              "      <td>2.0</td>\n",
              "      <td>2.0</td>\n",
              "      <td>3884.805998</td>\n",
              "      <td>40026.0</td>\n",
              "      <td>1.0</td>\n",
              "      <td>0.0</td>\n",
              "    </tr>\n",
              "    <tr>\n",
              "      <th>1</th>\n",
              "      <td>13005143</td>\n",
              "      <td>4</td>\n",
              "      <td>1</td>\n",
              "      <td>3</td>\n",
              "      <td>1</td>\n",
              "      <td>2</td>\n",
              "      <td>1</td>\n",
              "      <td>1</td>\n",
              "      <td>1</td>\n",
              "      <td>99</td>\n",
              "      <td>99</td>\n",
              "      <td>2</td>\n",
              "      <td>2</td>\n",
              "      <td>2</td>\n",
              "      <td>1</td>\n",
              "      <td>1</td>\n",
              "      <td>99</td>\n",
              "      <td>2</td>\n",
              "      <td>99</td>\n",
              "      <td>99</td>\n",
              "      <td>99</td>\n",
              "      <td>99.0</td>\n",
              "      <td>99.0</td>\n",
              "      <td>99.0</td>\n",
              "      <td>99.0</td>\n",
              "      <td>99.0</td>\n",
              "      <td>2.0</td>\n",
              "      <td>1.0</td>\n",
              "      <td>2.0</td>\n",
              "      <td>1.0</td>\n",
              "      <td>2.0</td>\n",
              "      <td>1.0</td>\n",
              "      <td>1.0</td>\n",
              "      <td>1.0</td>\n",
              "      <td>99.0</td>\n",
              "      <td>9.0</td>\n",
              "      <td>98.0</td>\n",
              "      <td>98.0</td>\n",
              "      <td>1.0</td>\n",
              "      <td>1.0</td>\n",
              "      <td>1.0</td>\n",
              "      <td>2.0</td>\n",
              "      <td>1.0</td>\n",
              "      <td>1.0</td>\n",
              "      <td>2.0</td>\n",
              "      <td>1.0</td>\n",
              "      <td>2.0</td>\n",
              "      <td>1.0</td>\n",
              "      <td>1.0</td>\n",
              "      <td>1.0</td>\n",
              "      <td>2.0</td>\n",
              "      <td>1.0</td>\n",
              "      <td>2.0</td>\n",
              "      <td>1.0</td>\n",
              "      <td>99.0</td>\n",
              "      <td>9.0</td>\n",
              "      <td>1.0</td>\n",
              "      <td>1.0</td>\n",
              "      <td>1.0</td>\n",
              "      <td>1.0</td>\n",
              "      <td>1.0</td>\n",
              "      <td>1.0</td>\n",
              "      <td>2.0</td>\n",
              "      <td>2.0</td>\n",
              "      <td>2.0</td>\n",
              "      <td>3.0</td>\n",
              "      <td>2.0</td>\n",
              "      <td>2.0</td>\n",
              "      <td>1627.108106</td>\n",
              "      <td>40015.0</td>\n",
              "      <td>2.0</td>\n",
              "      <td>1.0</td>\n",
              "    </tr>\n",
              "  </tbody>\n",
              "</table>\n",
              "</div>"
            ],
            "text/plain": [
              "      PERID  IFATHER  NRCH17_2  IRHHSIZ2  ...     ANALWT_C    VESTR  VEREP  Criminal\n",
              "0  25095143        4         2         4  ...  3884.805998  40026.0    1.0       0.0\n",
              "1  13005143        4         1         3  ...  1627.108106  40015.0    2.0       1.0\n",
              "\n",
              "[2 rows x 72 columns]"
            ]
          },
          "metadata": {
            "tags": []
          },
          "execution_count": 3
        }
      ]
    },
    {
      "cell_type": "code",
      "metadata": {
        "id": "0-hF4xHvZiwz",
        "colab_type": "code",
        "outputId": "273525eb-98cd-4d15-a00b-613dc68c1788",
        "colab": {
          "base_uri": "https://localhost:8080/",
          "height": 317
        }
      },
      "source": [
        "df.describe()"
      ],
      "execution_count": 4,
      "outputs": [
        {
          "output_type": "execute_result",
          "data": {
            "text/html": [
              "<div>\n",
              "<style scoped>\n",
              "    .dataframe tbody tr th:only-of-type {\n",
              "        vertical-align: middle;\n",
              "    }\n",
              "\n",
              "    .dataframe tbody tr th {\n",
              "        vertical-align: top;\n",
              "    }\n",
              "\n",
              "    .dataframe thead th {\n",
              "        text-align: right;\n",
              "    }\n",
              "</style>\n",
              "<table border=\"1\" class=\"dataframe\">\n",
              "  <thead>\n",
              "    <tr style=\"text-align: right;\">\n",
              "      <th></th>\n",
              "      <th>PERID</th>\n",
              "      <th>IFATHER</th>\n",
              "      <th>NRCH17_2</th>\n",
              "      <th>IRHHSIZ2</th>\n",
              "      <th>IIHHSIZ2</th>\n",
              "      <th>IRKI17_2</th>\n",
              "      <th>IIKI17_2</th>\n",
              "      <th>IRHH65_2</th>\n",
              "      <th>IIHH65_2</th>\n",
              "      <th>PRXRETRY</th>\n",
              "      <th>PRXYDATA</th>\n",
              "      <th>MEDICARE</th>\n",
              "      <th>CAIDCHIP</th>\n",
              "      <th>CHAMPUS</th>\n",
              "      <th>PRVHLTIN</th>\n",
              "      <th>GRPHLTIN</th>\n",
              "      <th>HLTINNOS</th>\n",
              "      <th>HLCNOTYR</th>\n",
              "      <th>HLCNOTMO</th>\n",
              "      <th>HLCLAST</th>\n",
              "      <th>HLLOSRSN</th>\n",
              "      <th>HLNVCOST</th>\n",
              "      <th>HLNVOFFR</th>\n",
              "      <th>HLNVREF</th>\n",
              "      <th>HLNVNEED</th>\n",
              "      <th>HLNVSOR</th>\n",
              "      <th>IRMCDCHP</th>\n",
              "      <th>IIMCDCHP</th>\n",
              "      <th>IRMEDICR</th>\n",
              "      <th>IIMEDICR</th>\n",
              "      <th>IRCHMPUS</th>\n",
              "      <th>IICHMPUS</th>\n",
              "      <th>IRPRVHLT</th>\n",
              "      <th>IIPRVHLT</th>\n",
              "      <th>IROTHHLT</th>\n",
              "      <th>IIOTHHLT</th>\n",
              "      <th>HLCALLFG</th>\n",
              "      <th>HLCALL99</th>\n",
              "      <th>ANYHLTI2</th>\n",
              "      <th>IRINSUR4</th>\n",
              "      <th>IIINSUR4</th>\n",
              "      <th>OTHINS</th>\n",
              "      <th>CELLNOTCL</th>\n",
              "      <th>CELLWRKNG</th>\n",
              "      <th>IRFAMSOC</th>\n",
              "      <th>IIFAMSOC</th>\n",
              "      <th>IRFAMSSI</th>\n",
              "      <th>IIFAMSSI</th>\n",
              "      <th>IRFSTAMP</th>\n",
              "      <th>IIFSTAMP</th>\n",
              "      <th>IRFAMPMT</th>\n",
              "      <th>IIFAMPMT</th>\n",
              "      <th>IRFAMSVC</th>\n",
              "      <th>IIFAMSVC</th>\n",
              "      <th>IRWELMOS</th>\n",
              "      <th>IIWELMOS</th>\n",
              "      <th>IRPINC3</th>\n",
              "      <th>IRFAMIN3</th>\n",
              "      <th>IIPINC3</th>\n",
              "      <th>IIFAMIN3</th>\n",
              "      <th>GOVTPROG</th>\n",
              "      <th>POVERTY3</th>\n",
              "      <th>TOOLONG</th>\n",
              "      <th>TROUBUND</th>\n",
              "      <th>PDEN10</th>\n",
              "      <th>COUTYP2</th>\n",
              "      <th>MAIIN102</th>\n",
              "      <th>AIIND102</th>\n",
              "      <th>ANALWT_C</th>\n",
              "      <th>VESTR</th>\n",
              "      <th>VEREP</th>\n",
              "      <th>Criminal</th>\n",
              "    </tr>\n",
              "  </thead>\n",
              "  <tbody>\n",
              "    <tr>\n",
              "      <th>count</th>\n",
              "      <td>3.999900e+04</td>\n",
              "      <td>39999.000000</td>\n",
              "      <td>39999.000000</td>\n",
              "      <td>39999.000000</td>\n",
              "      <td>39999.000000</td>\n",
              "      <td>39999.000000</td>\n",
              "      <td>39999.000000</td>\n",
              "      <td>39999.000000</td>\n",
              "      <td>39999.000000</td>\n",
              "      <td>39999.000000</td>\n",
              "      <td>39999.000000</td>\n",
              "      <td>39999.000000</td>\n",
              "      <td>39999.000000</td>\n",
              "      <td>39999.000000</td>\n",
              "      <td>39999.000000</td>\n",
              "      <td>39999.000000</td>\n",
              "      <td>39999.000000</td>\n",
              "      <td>39999.000000</td>\n",
              "      <td>39999.000000</td>\n",
              "      <td>39999.000000</td>\n",
              "      <td>39999.000000</td>\n",
              "      <td>39998.000000</td>\n",
              "      <td>39998.000000</td>\n",
              "      <td>39998.000000</td>\n",
              "      <td>39998.000000</td>\n",
              "      <td>39998.000000</td>\n",
              "      <td>39998.000000</td>\n",
              "      <td>39998.000000</td>\n",
              "      <td>39998.000000</td>\n",
              "      <td>39998.00000</td>\n",
              "      <td>39998.000000</td>\n",
              "      <td>39998.000000</td>\n",
              "      <td>39998.000000</td>\n",
              "      <td>39998.000000</td>\n",
              "      <td>39998.000000</td>\n",
              "      <td>39998.000000</td>\n",
              "      <td>39998.000000</td>\n",
              "      <td>39998.000000</td>\n",
              "      <td>39998.000000</td>\n",
              "      <td>39998.00000</td>\n",
              "      <td>39998.000000</td>\n",
              "      <td>39998.000000</td>\n",
              "      <td>39998.000000</td>\n",
              "      <td>39998.000000</td>\n",
              "      <td>39998.000000</td>\n",
              "      <td>39998.000000</td>\n",
              "      <td>39998.000000</td>\n",
              "      <td>39998.000000</td>\n",
              "      <td>39998.000000</td>\n",
              "      <td>39998.00000</td>\n",
              "      <td>39998.000000</td>\n",
              "      <td>39998.000000</td>\n",
              "      <td>39998.000000</td>\n",
              "      <td>39998.000000</td>\n",
              "      <td>39998.000000</td>\n",
              "      <td>39998.000000</td>\n",
              "      <td>39998.000000</td>\n",
              "      <td>39998.000000</td>\n",
              "      <td>39998.000000</td>\n",
              "      <td>39998.000000</td>\n",
              "      <td>39998.000000</td>\n",
              "      <td>39998.000000</td>\n",
              "      <td>39998.000000</td>\n",
              "      <td>39998.000000</td>\n",
              "      <td>39998.000000</td>\n",
              "      <td>39998.000000</td>\n",
              "      <td>39998.000000</td>\n",
              "      <td>39998.000000</td>\n",
              "      <td>39998.000000</td>\n",
              "      <td>39998.000000</td>\n",
              "      <td>39998.000000</td>\n",
              "      <td>39998.000000</td>\n",
              "    </tr>\n",
              "    <tr>\n",
              "      <th>mean</th>\n",
              "      <td>5.444733e+07</td>\n",
              "      <td>3.355684</td>\n",
              "      <td>0.476762</td>\n",
              "      <td>3.424611</td>\n",
              "      <td>1.001900</td>\n",
              "      <td>2.082127</td>\n",
              "      <td>1.007650</td>\n",
              "      <td>1.162704</td>\n",
              "      <td>1.011100</td>\n",
              "      <td>97.408260</td>\n",
              "      <td>70.870922</td>\n",
              "      <td>2.380410</td>\n",
              "      <td>2.660267</td>\n",
              "      <td>2.232306</td>\n",
              "      <td>2.048626</td>\n",
              "      <td>39.541864</td>\n",
              "      <td>86.093527</td>\n",
              "      <td>12.832496</td>\n",
              "      <td>92.305133</td>\n",
              "      <td>89.334858</td>\n",
              "      <td>91.336558</td>\n",
              "      <td>97.101180</td>\n",
              "      <td>97.135682</td>\n",
              "      <td>97.146807</td>\n",
              "      <td>97.129306</td>\n",
              "      <td>97.134432</td>\n",
              "      <td>1.772039</td>\n",
              "      <td>1.019301</td>\n",
              "      <td>1.916371</td>\n",
              "      <td>1.00995</td>\n",
              "      <td>1.962198</td>\n",
              "      <td>1.005750</td>\n",
              "      <td>1.387444</td>\n",
              "      <td>1.014151</td>\n",
              "      <td>85.787414</td>\n",
              "      <td>7.882944</td>\n",
              "      <td>97.975699</td>\n",
              "      <td>97.975699</td>\n",
              "      <td>1.966848</td>\n",
              "      <td>1.10383</td>\n",
              "      <td>1.018401</td>\n",
              "      <td>1.855068</td>\n",
              "      <td>1.741362</td>\n",
              "      <td>1.143832</td>\n",
              "      <td>1.837167</td>\n",
              "      <td>1.018401</td>\n",
              "      <td>1.930897</td>\n",
              "      <td>1.018301</td>\n",
              "      <td>1.799490</td>\n",
              "      <td>1.00990</td>\n",
              "      <td>1.972874</td>\n",
              "      <td>1.014651</td>\n",
              "      <td>1.963573</td>\n",
              "      <td>1.010851</td>\n",
              "      <td>94.082904</td>\n",
              "      <td>8.521826</td>\n",
              "      <td>2.582604</td>\n",
              "      <td>4.746037</td>\n",
              "      <td>1.060503</td>\n",
              "      <td>1.191810</td>\n",
              "      <td>1.761938</td>\n",
              "      <td>2.336567</td>\n",
              "      <td>2.213286</td>\n",
              "      <td>2.229111</td>\n",
              "      <td>1.643632</td>\n",
              "      <td>1.761588</td>\n",
              "      <td>1.979324</td>\n",
              "      <td>1.979099</td>\n",
              "      <td>4690.211117</td>\n",
              "      <td>40024.444422</td>\n",
              "      <td>1.494400</td>\n",
              "      <td>0.069778</td>\n",
              "    </tr>\n",
              "    <tr>\n",
              "      <th>std</th>\n",
              "      <td>2.555308e+07</td>\n",
              "      <td>1.176259</td>\n",
              "      <td>0.888844</td>\n",
              "      <td>1.427695</td>\n",
              "      <td>0.063219</td>\n",
              "      <td>1.101200</td>\n",
              "      <td>0.124267</td>\n",
              "      <td>0.469136</td>\n",
              "      <td>0.146212</td>\n",
              "      <td>12.302351</td>\n",
              "      <td>44.326702</td>\n",
              "      <td>6.555333</td>\n",
              "      <td>8.990996</td>\n",
              "      <td>5.014384</td>\n",
              "      <td>7.842170</td>\n",
              "      <td>47.784954</td>\n",
              "      <td>32.987373</td>\n",
              "      <td>30.627632</td>\n",
              "      <td>24.203718</td>\n",
              "      <td>28.836234</td>\n",
              "      <td>25.772256</td>\n",
              "      <td>13.294884</td>\n",
              "      <td>13.049666</td>\n",
              "      <td>12.969584</td>\n",
              "      <td>13.095331</td>\n",
              "      <td>13.058633</td>\n",
              "      <td>0.419702</td>\n",
              "      <td>0.196037</td>\n",
              "      <td>0.277105</td>\n",
              "      <td>0.14143</td>\n",
              "      <td>0.191112</td>\n",
              "      <td>0.108018</td>\n",
              "      <td>0.487327</td>\n",
              "      <td>0.168232</td>\n",
              "      <td>33.319924</td>\n",
              "      <td>2.752929</td>\n",
              "      <td>1.536762</td>\n",
              "      <td>1.536762</td>\n",
              "      <td>8.965039</td>\n",
              "      <td>0.30529</td>\n",
              "      <td>0.191479</td>\n",
              "      <td>0.352250</td>\n",
              "      <td>4.060015</td>\n",
              "      <td>3.403242</td>\n",
              "      <td>0.369421</td>\n",
              "      <td>0.191479</td>\n",
              "      <td>0.253929</td>\n",
              "      <td>0.190966</td>\n",
              "      <td>0.400574</td>\n",
              "      <td>0.14108</td>\n",
              "      <td>0.162915</td>\n",
              "      <td>0.171136</td>\n",
              "      <td>0.187752</td>\n",
              "      <td>0.147594</td>\n",
              "      <td>20.559798</td>\n",
              "      <td>1.864919</td>\n",
              "      <td>1.983648</td>\n",
              "      <td>2.107959</td>\n",
              "      <td>0.342853</td>\n",
              "      <td>0.589098</td>\n",
              "      <td>0.426079</td>\n",
              "      <td>0.850607</td>\n",
              "      <td>5.238955</td>\n",
              "      <td>5.236775</td>\n",
              "      <td>0.617606</td>\n",
              "      <td>0.770719</td>\n",
              "      <td>0.142825</td>\n",
              "      <td>0.143578</td>\n",
              "      <td>5728.896554</td>\n",
              "      <td>200.668318</td>\n",
              "      <td>0.500125</td>\n",
              "      <td>0.254777</td>\n",
              "    </tr>\n",
              "    <tr>\n",
              "      <th>min</th>\n",
              "      <td>1.000222e+07</td>\n",
              "      <td>-1.000000</td>\n",
              "      <td>-1.000000</td>\n",
              "      <td>-1.000000</td>\n",
              "      <td>-1.000000</td>\n",
              "      <td>-1.000000</td>\n",
              "      <td>-1.000000</td>\n",
              "      <td>-1.000000</td>\n",
              "      <td>-1.000000</td>\n",
              "      <td>-1.000000</td>\n",
              "      <td>-1.000000</td>\n",
              "      <td>-1.000000</td>\n",
              "      <td>-1.000000</td>\n",
              "      <td>-1.000000</td>\n",
              "      <td>-1.000000</td>\n",
              "      <td>-1.000000</td>\n",
              "      <td>-1.000000</td>\n",
              "      <td>-1.000000</td>\n",
              "      <td>-1.000000</td>\n",
              "      <td>-1.000000</td>\n",
              "      <td>-1.000000</td>\n",
              "      <td>-1.000000</td>\n",
              "      <td>-1.000000</td>\n",
              "      <td>-1.000000</td>\n",
              "      <td>-1.000000</td>\n",
              "      <td>-1.000000</td>\n",
              "      <td>-1.000000</td>\n",
              "      <td>-1.000000</td>\n",
              "      <td>-1.000000</td>\n",
              "      <td>-1.00000</td>\n",
              "      <td>-1.000000</td>\n",
              "      <td>-1.000000</td>\n",
              "      <td>-1.000000</td>\n",
              "      <td>-1.000000</td>\n",
              "      <td>-1.000000</td>\n",
              "      <td>-1.000000</td>\n",
              "      <td>-1.000000</td>\n",
              "      <td>-1.000000</td>\n",
              "      <td>-1.000000</td>\n",
              "      <td>-1.00000</td>\n",
              "      <td>-1.000000</td>\n",
              "      <td>-1.000000</td>\n",
              "      <td>-1.000000</td>\n",
              "      <td>-1.000000</td>\n",
              "      <td>-1.000000</td>\n",
              "      <td>-1.000000</td>\n",
              "      <td>-1.000000</td>\n",
              "      <td>-1.000000</td>\n",
              "      <td>-1.000000</td>\n",
              "      <td>-1.00000</td>\n",
              "      <td>-1.000000</td>\n",
              "      <td>-1.000000</td>\n",
              "      <td>-1.000000</td>\n",
              "      <td>-1.000000</td>\n",
              "      <td>-1.000000</td>\n",
              "      <td>-1.000000</td>\n",
              "      <td>-1.000000</td>\n",
              "      <td>-1.000000</td>\n",
              "      <td>-1.000000</td>\n",
              "      <td>-1.000000</td>\n",
              "      <td>-1.000000</td>\n",
              "      <td>-1.000000</td>\n",
              "      <td>-1.000000</td>\n",
              "      <td>-1.000000</td>\n",
              "      <td>-1.000000</td>\n",
              "      <td>-1.000000</td>\n",
              "      <td>-1.000000</td>\n",
              "      <td>-1.000000</td>\n",
              "      <td>-1.000000</td>\n",
              "      <td>-1.000000</td>\n",
              "      <td>-1.000000</td>\n",
              "      <td>0.000000</td>\n",
              "    </tr>\n",
              "    <tr>\n",
              "      <th>25%</th>\n",
              "      <td>3.218566e+07</td>\n",
              "      <td>4.000000</td>\n",
              "      <td>0.000000</td>\n",
              "      <td>2.000000</td>\n",
              "      <td>1.000000</td>\n",
              "      <td>1.000000</td>\n",
              "      <td>1.000000</td>\n",
              "      <td>1.000000</td>\n",
              "      <td>1.000000</td>\n",
              "      <td>99.000000</td>\n",
              "      <td>1.000000</td>\n",
              "      <td>2.000000</td>\n",
              "      <td>2.000000</td>\n",
              "      <td>2.000000</td>\n",
              "      <td>1.000000</td>\n",
              "      <td>1.000000</td>\n",
              "      <td>99.000000</td>\n",
              "      <td>2.000000</td>\n",
              "      <td>99.000000</td>\n",
              "      <td>99.000000</td>\n",
              "      <td>99.000000</td>\n",
              "      <td>99.000000</td>\n",
              "      <td>99.000000</td>\n",
              "      <td>99.000000</td>\n",
              "      <td>99.000000</td>\n",
              "      <td>99.000000</td>\n",
              "      <td>2.000000</td>\n",
              "      <td>1.000000</td>\n",
              "      <td>2.000000</td>\n",
              "      <td>1.00000</td>\n",
              "      <td>2.000000</td>\n",
              "      <td>1.000000</td>\n",
              "      <td>1.000000</td>\n",
              "      <td>1.000000</td>\n",
              "      <td>99.000000</td>\n",
              "      <td>9.000000</td>\n",
              "      <td>98.000000</td>\n",
              "      <td>98.000000</td>\n",
              "      <td>1.000000</td>\n",
              "      <td>1.00000</td>\n",
              "      <td>1.000000</td>\n",
              "      <td>2.000000</td>\n",
              "      <td>1.000000</td>\n",
              "      <td>1.000000</td>\n",
              "      <td>2.000000</td>\n",
              "      <td>1.000000</td>\n",
              "      <td>2.000000</td>\n",
              "      <td>1.000000</td>\n",
              "      <td>2.000000</td>\n",
              "      <td>1.00000</td>\n",
              "      <td>2.000000</td>\n",
              "      <td>1.000000</td>\n",
              "      <td>2.000000</td>\n",
              "      <td>1.000000</td>\n",
              "      <td>99.000000</td>\n",
              "      <td>9.000000</td>\n",
              "      <td>1.000000</td>\n",
              "      <td>3.000000</td>\n",
              "      <td>1.000000</td>\n",
              "      <td>1.000000</td>\n",
              "      <td>2.000000</td>\n",
              "      <td>2.000000</td>\n",
              "      <td>2.000000</td>\n",
              "      <td>2.000000</td>\n",
              "      <td>1.000000</td>\n",
              "      <td>1.000000</td>\n",
              "      <td>2.000000</td>\n",
              "      <td>2.000000</td>\n",
              "      <td>1251.009364</td>\n",
              "      <td>40013.000000</td>\n",
              "      <td>1.000000</td>\n",
              "      <td>0.000000</td>\n",
              "    </tr>\n",
              "    <tr>\n",
              "      <th>50%</th>\n",
              "      <td>5.420020e+07</td>\n",
              "      <td>4.000000</td>\n",
              "      <td>0.000000</td>\n",
              "      <td>3.000000</td>\n",
              "      <td>1.000000</td>\n",
              "      <td>2.000000</td>\n",
              "      <td>1.000000</td>\n",
              "      <td>1.000000</td>\n",
              "      <td>1.000000</td>\n",
              "      <td>99.000000</td>\n",
              "      <td>99.000000</td>\n",
              "      <td>2.000000</td>\n",
              "      <td>2.000000</td>\n",
              "      <td>2.000000</td>\n",
              "      <td>1.000000</td>\n",
              "      <td>1.000000</td>\n",
              "      <td>99.000000</td>\n",
              "      <td>2.000000</td>\n",
              "      <td>99.000000</td>\n",
              "      <td>99.000000</td>\n",
              "      <td>99.000000</td>\n",
              "      <td>99.000000</td>\n",
              "      <td>99.000000</td>\n",
              "      <td>99.000000</td>\n",
              "      <td>99.000000</td>\n",
              "      <td>99.000000</td>\n",
              "      <td>2.000000</td>\n",
              "      <td>1.000000</td>\n",
              "      <td>2.000000</td>\n",
              "      <td>1.00000</td>\n",
              "      <td>2.000000</td>\n",
              "      <td>1.000000</td>\n",
              "      <td>1.000000</td>\n",
              "      <td>1.000000</td>\n",
              "      <td>99.000000</td>\n",
              "      <td>9.000000</td>\n",
              "      <td>98.000000</td>\n",
              "      <td>98.000000</td>\n",
              "      <td>1.000000</td>\n",
              "      <td>1.00000</td>\n",
              "      <td>1.000000</td>\n",
              "      <td>2.000000</td>\n",
              "      <td>2.000000</td>\n",
              "      <td>1.000000</td>\n",
              "      <td>2.000000</td>\n",
              "      <td>1.000000</td>\n",
              "      <td>2.000000</td>\n",
              "      <td>1.000000</td>\n",
              "      <td>2.000000</td>\n",
              "      <td>1.00000</td>\n",
              "      <td>2.000000</td>\n",
              "      <td>1.000000</td>\n",
              "      <td>2.000000</td>\n",
              "      <td>1.000000</td>\n",
              "      <td>99.000000</td>\n",
              "      <td>9.000000</td>\n",
              "      <td>2.000000</td>\n",
              "      <td>5.000000</td>\n",
              "      <td>1.000000</td>\n",
              "      <td>1.000000</td>\n",
              "      <td>2.000000</td>\n",
              "      <td>3.000000</td>\n",
              "      <td>2.000000</td>\n",
              "      <td>2.000000</td>\n",
              "      <td>2.000000</td>\n",
              "      <td>2.000000</td>\n",
              "      <td>2.000000</td>\n",
              "      <td>2.000000</td>\n",
              "      <td>2708.169837</td>\n",
              "      <td>40025.000000</td>\n",
              "      <td>1.000000</td>\n",
              "      <td>0.000000</td>\n",
              "    </tr>\n",
              "    <tr>\n",
              "      <th>75%</th>\n",
              "      <td>7.612463e+07</td>\n",
              "      <td>4.000000</td>\n",
              "      <td>1.000000</td>\n",
              "      <td>4.000000</td>\n",
              "      <td>1.000000</td>\n",
              "      <td>3.000000</td>\n",
              "      <td>1.000000</td>\n",
              "      <td>1.000000</td>\n",
              "      <td>1.000000</td>\n",
              "      <td>99.000000</td>\n",
              "      <td>99.000000</td>\n",
              "      <td>2.000000</td>\n",
              "      <td>2.000000</td>\n",
              "      <td>2.000000</td>\n",
              "      <td>2.000000</td>\n",
              "      <td>99.000000</td>\n",
              "      <td>99.000000</td>\n",
              "      <td>2.000000</td>\n",
              "      <td>99.000000</td>\n",
              "      <td>99.000000</td>\n",
              "      <td>99.000000</td>\n",
              "      <td>99.000000</td>\n",
              "      <td>99.000000</td>\n",
              "      <td>99.000000</td>\n",
              "      <td>99.000000</td>\n",
              "      <td>99.000000</td>\n",
              "      <td>2.000000</td>\n",
              "      <td>1.000000</td>\n",
              "      <td>2.000000</td>\n",
              "      <td>1.00000</td>\n",
              "      <td>2.000000</td>\n",
              "      <td>1.000000</td>\n",
              "      <td>2.000000</td>\n",
              "      <td>1.000000</td>\n",
              "      <td>99.000000</td>\n",
              "      <td>9.000000</td>\n",
              "      <td>98.000000</td>\n",
              "      <td>98.000000</td>\n",
              "      <td>1.000000</td>\n",
              "      <td>1.00000</td>\n",
              "      <td>1.000000</td>\n",
              "      <td>2.000000</td>\n",
              "      <td>2.000000</td>\n",
              "      <td>1.000000</td>\n",
              "      <td>2.000000</td>\n",
              "      <td>1.000000</td>\n",
              "      <td>2.000000</td>\n",
              "      <td>1.000000</td>\n",
              "      <td>2.000000</td>\n",
              "      <td>1.00000</td>\n",
              "      <td>2.000000</td>\n",
              "      <td>1.000000</td>\n",
              "      <td>2.000000</td>\n",
              "      <td>1.000000</td>\n",
              "      <td>99.000000</td>\n",
              "      <td>9.000000</td>\n",
              "      <td>4.000000</td>\n",
              "      <td>7.000000</td>\n",
              "      <td>1.000000</td>\n",
              "      <td>1.000000</td>\n",
              "      <td>2.000000</td>\n",
              "      <td>3.000000</td>\n",
              "      <td>2.000000</td>\n",
              "      <td>2.000000</td>\n",
              "      <td>2.000000</td>\n",
              "      <td>2.000000</td>\n",
              "      <td>2.000000</td>\n",
              "      <td>2.000000</td>\n",
              "      <td>5761.988926</td>\n",
              "      <td>40038.000000</td>\n",
              "      <td>2.000000</td>\n",
              "      <td>0.000000</td>\n",
              "    </tr>\n",
              "    <tr>\n",
              "      <th>max</th>\n",
              "      <td>9.999956e+07</td>\n",
              "      <td>4.000000</td>\n",
              "      <td>3.000000</td>\n",
              "      <td>6.000000</td>\n",
              "      <td>3.000000</td>\n",
              "      <td>4.000000</td>\n",
              "      <td>3.000000</td>\n",
              "      <td>3.000000</td>\n",
              "      <td>3.000000</td>\n",
              "      <td>99.000000</td>\n",
              "      <td>99.000000</td>\n",
              "      <td>98.000000</td>\n",
              "      <td>98.000000</td>\n",
              "      <td>98.000000</td>\n",
              "      <td>98.000000</td>\n",
              "      <td>99.000000</td>\n",
              "      <td>99.000000</td>\n",
              "      <td>99.000000</td>\n",
              "      <td>99.000000</td>\n",
              "      <td>99.000000</td>\n",
              "      <td>99.000000</td>\n",
              "      <td>99.000000</td>\n",
              "      <td>99.000000</td>\n",
              "      <td>99.000000</td>\n",
              "      <td>99.000000</td>\n",
              "      <td>99.000000</td>\n",
              "      <td>2.000000</td>\n",
              "      <td>3.000000</td>\n",
              "      <td>2.000000</td>\n",
              "      <td>3.00000</td>\n",
              "      <td>2.000000</td>\n",
              "      <td>3.000000</td>\n",
              "      <td>2.000000</td>\n",
              "      <td>3.000000</td>\n",
              "      <td>99.000000</td>\n",
              "      <td>9.000000</td>\n",
              "      <td>98.000000</td>\n",
              "      <td>98.000000</td>\n",
              "      <td>98.000000</td>\n",
              "      <td>2.00000</td>\n",
              "      <td>3.000000</td>\n",
              "      <td>2.000000</td>\n",
              "      <td>98.000000</td>\n",
              "      <td>98.000000</td>\n",
              "      <td>2.000000</td>\n",
              "      <td>3.000000</td>\n",
              "      <td>2.000000</td>\n",
              "      <td>3.000000</td>\n",
              "      <td>2.000000</td>\n",
              "      <td>3.00000</td>\n",
              "      <td>2.000000</td>\n",
              "      <td>3.000000</td>\n",
              "      <td>2.000000</td>\n",
              "      <td>3.000000</td>\n",
              "      <td>99.000000</td>\n",
              "      <td>9.000000</td>\n",
              "      <td>7.000000</td>\n",
              "      <td>7.000000</td>\n",
              "      <td>3.000000</td>\n",
              "      <td>3.000000</td>\n",
              "      <td>2.000000</td>\n",
              "      <td>3.000000</td>\n",
              "      <td>98.000000</td>\n",
              "      <td>98.000000</td>\n",
              "      <td>3.000000</td>\n",
              "      <td>3.000000</td>\n",
              "      <td>2.000000</td>\n",
              "      <td>2.000000</td>\n",
              "      <td>109100.623000</td>\n",
              "      <td>40050.000000</td>\n",
              "      <td>2.000000</td>\n",
              "      <td>1.000000</td>\n",
              "    </tr>\n",
              "  </tbody>\n",
              "</table>\n",
              "</div>"
            ],
            "text/plain": [
              "              PERID       IFATHER  ...         VEREP      Criminal\n",
              "count  3.999900e+04  39999.000000  ...  39998.000000  39998.000000\n",
              "mean   5.444733e+07      3.355684  ...      1.494400      0.069778\n",
              "std    2.555308e+07      1.176259  ...      0.500125      0.254777\n",
              "min    1.000222e+07     -1.000000  ...     -1.000000      0.000000\n",
              "25%    3.218566e+07      4.000000  ...      1.000000      0.000000\n",
              "50%    5.420020e+07      4.000000  ...      1.000000      0.000000\n",
              "75%    7.612463e+07      4.000000  ...      2.000000      0.000000\n",
              "max    9.999956e+07      4.000000  ...      2.000000      1.000000\n",
              "\n",
              "[8 rows x 72 columns]"
            ]
          },
          "metadata": {
            "tags": []
          },
          "execution_count": 4
        }
      ]
    },
    {
      "cell_type": "code",
      "metadata": {
        "id": "-e1Ohh-oZZn5",
        "colab_type": "code",
        "outputId": "9ffc8303-541c-4deb-fd1a-2a61ace6690c",
        "colab": {
          "base_uri": "https://localhost:8080/",
          "height": 221
        }
      },
      "source": [
        "print(df.isna().sum())\n",
        "#print(df.info())"
      ],
      "execution_count": 5,
      "outputs": [
        {
          "output_type": "stream",
          "text": [
            "PERID       0\n",
            "IFATHER     0\n",
            "NRCH17_2    0\n",
            "IRHHSIZ2    0\n",
            "IIHHSIZ2    0\n",
            "           ..\n",
            "AIIND102    1\n",
            "ANALWT_C    1\n",
            "VESTR       1\n",
            "VEREP       1\n",
            "Criminal    1\n",
            "Length: 72, dtype: int64\n"
          ],
          "name": "stdout"
        }
      ]
    },
    {
      "cell_type": "code",
      "metadata": {
        "id": "vC2hH9Y7bblM",
        "colab_type": "code",
        "outputId": "2b304b99-14ad-4650-a838-1635f81fefd7",
        "colab": {
          "base_uri": "https://localhost:8080/",
          "height": 255
        }
      },
      "source": [
        "df.columns"
      ],
      "execution_count": 6,
      "outputs": [
        {
          "output_type": "execute_result",
          "data": {
            "text/plain": [
              "Index(['PERID', 'IFATHER', 'NRCH17_2', 'IRHHSIZ2', 'IIHHSIZ2', 'IRKI17_2',\n",
              "       'IIKI17_2', 'IRHH65_2', 'IIHH65_2', 'PRXRETRY', 'PRXYDATA', 'MEDICARE',\n",
              "       'CAIDCHIP', 'CHAMPUS', 'PRVHLTIN', 'GRPHLTIN', 'HLTINNOS', 'HLCNOTYR',\n",
              "       'HLCNOTMO', 'HLCLAST', 'HLLOSRSN', 'HLNVCOST', 'HLNVOFFR', 'HLNVREF',\n",
              "       'HLNVNEED', 'HLNVSOR', 'IRMCDCHP', 'IIMCDCHP', 'IRMEDICR', 'IIMEDICR',\n",
              "       'IRCHMPUS', 'IICHMPUS', 'IRPRVHLT', 'IIPRVHLT', 'IROTHHLT', 'IIOTHHLT',\n",
              "       'HLCALLFG', 'HLCALL99', 'ANYHLTI2', 'IRINSUR4', 'IIINSUR4', 'OTHINS',\n",
              "       'CELLNOTCL', 'CELLWRKNG', 'IRFAMSOC', 'IIFAMSOC', 'IRFAMSSI',\n",
              "       'IIFAMSSI', 'IRFSTAMP', 'IIFSTAMP', 'IRFAMPMT', 'IIFAMPMT', 'IRFAMSVC',\n",
              "       'IIFAMSVC', 'IRWELMOS', 'IIWELMOS', 'IRPINC3', 'IRFAMIN3', 'IIPINC3',\n",
              "       'IIFAMIN3', 'GOVTPROG', 'POVERTY3', 'TOOLONG', 'TROUBUND', 'PDEN10',\n",
              "       'COUTYP2', 'MAIIN102', 'AIIND102', 'ANALWT_C', 'VESTR', 'VEREP',\n",
              "       'Criminal'],\n",
              "      dtype='object')"
            ]
          },
          "metadata": {
            "tags": []
          },
          "execution_count": 6
        }
      ]
    },
    {
      "cell_type": "code",
      "metadata": {
        "id": "QJbHYI6XZ_j2",
        "colab_type": "code",
        "outputId": "33433771-1336-40f6-c9a0-ef30b223cbd4",
        "colab": {
          "base_uri": "https://localhost:8080/",
          "height": 283
        }
      },
      "source": [
        "#for numerical data\n",
        "f.boxplot(column=['ANALWT_C'])"
      ],
      "execution_count": 7,
      "outputs": [
        {
          "output_type": "execute_result",
          "data": {
            "text/plain": [
              "<matplotlib.axes._subplots.AxesSubplot at 0x7f8cf32a89e8>"
            ]
          },
          "metadata": {
            "tags": []
          },
          "execution_count": 7
        },
        {
          "output_type": "display_data",
          "data": {
            "image/png": "[encoded data removed]",
            "text/plain": [
              "<Figure size 432x288 with 1 Axes>"
            ]
          },
          "metadata": {
            "tags": [],
            "needs_background": "light"
          }
        }
      ]
    },
    {
      "cell_type": "code",
      "metadata": {
        "id": "TlPLe_3ebGFc",
        "colab_type": "code",
        "colab": {}
      },
      "source": [
        "def plot_dis(var):\n",
        "  fig , ax = plt.subplots(nrows =1)\n",
        "  sns.countplot(x =var , hue ='Criminal',data =df,ax = ax)\n",
        "  plt.show()"
      ],
      "execution_count": 0,
      "outputs": []
    },
    {
      "cell_type": "code",
      "metadata": {
        "id": "ky8mCHmpb-fx",
        "colab_type": "code",
        "outputId": "452bc3c5-5b9c-48c5-8722-2af941142914",
        "colab": {
          "base_uri": "https://localhost:8080/",
          "height": 1000
        }
      },
      "source": [
        "for i in df.columns[1 :13]:\n",
        "  plot_dis(i)"
      ],
      "execution_count": 9,
      "outputs": [
        {
          "output_type": "display_data",
          "data": {
            "image/png": "[encoded data removed]",
            "text/plain": [
              "<Figure size 432x288 with 1 Axes>"
            ]
          },
          "metadata": {
            "tags": [],
            "needs_background": "light"
          }
        },
        {
          "output_type": "display_data",
          "data": {
            "image/png": "[encoded data removed]",
            "text/plain": [
              "<Figure size 432x288 with 1 Axes>"
            ]
          },
          "metadata": {
            "tags": [],
            "needs_background": "light"
          }
        },
        {
          "output_type": "display_data",
          "data": {
            "image/png": "[encoded data removed]",
            "text/plain": [
              "<Figure size 432x288 with 1 Axes>"
            ]
          },
          "metadata": {
            "tags": [],
            "needs_background": "light"
          }
        },
        {
          "output_type": "display_data",
          "data": {
            "image/png": "[encoded data removed]",
            "text/plain": [
              "<Figure size 432x288 with 1 Axes>"
            ]
          },
          "metadata": {
            "tags": [],
            "needs_background": "light"
          }
        },
        {
          "output_type": "display_data",
          "data": {
            "image/png": "[encoded data removed]",
            "text/plain": [
              "<Figure size 432x288 with 1 Axes>"
            ]
          },
          "metadata": {
            "tags": [],
            "needs_background": "light"
          }
        },
        {
          "output_type": "display_data",
          "data": {
            "image/png": "[encoded data removed]",
            "text/plain": [
              "<Figure size 432x288 with 1 Axes>"
            ]
          },
          "metadata": {
            "tags": [],
            "needs_background": "light"
          }
        },
        {
          "output_type": "display_data",
          "data": {
            "image/png": "[encoded data removed]",
            "text/plain": [
              "<Figure size 432x288 with 1 Axes>"
            ]
          },
          "metadata": {
            "tags": [],
            "needs_background": "light"
          }
        },
        {
          "output_type": "display_data",
          "data": {
            "image/png": "[encoded data removed]",
            "text/plain": [
              "<Figure size 432x288 with 1 Axes>"
            ]
          },
          "metadata": {
            "tags": [],
            "needs_background": "light"
          }
        },
        {
          "output_type": "display_data",
          "data": {
            "image/png": "[encoded data removed]",
            "text/plain": [
              "<Figure size 432x288 with 1 Axes>"
            ]
          },
          "metadata": {
            "tags": [],
            "needs_background": "light"
          }
        },
        {
          "output_type": "display_data",
          "data": {
            "image/png": "[encoded data removed]",
            "text/plain": [
              "<Figure size 432x288 with 1 Axes>"
            ]
          },
          "metadata": {
            "tags": [],
            "needs_background": "light"
          }
        },
        {
          "output_type": "display_data",
          "data": {
            "image/png": "[encoded data removed]",
            "text/plain": [
              "<Figure size 432x288 with 1 Axes>"
            ]
          },
          "metadata": {
            "tags": [],
            "needs_background": "light"
          }
        },
        {
          "output_type": "display_data",
          "data": {
            "image/png": "[encoded data removed]",
            "text/plain": [
              "<Figure size 432x288 with 1 Axes>"
            ]
          },
          "metadata": {
            "tags": [],
            "needs_background": "light"
          }
        }
      ]
    },
    {
      "cell_type": "code",
      "metadata": {
        "id": "0u7_1cW8n3TQ",
        "colab_type": "code",
        "colab": {}
      },
      "source": [
        "#droping na values\n",
        "df.dropna(inplace=True)"
      ],
      "execution_count": 0,
      "outputs": []
    },
    {
      "cell_type": "code",
      "metadata": {
        "id": "w8m7bzaBf7T0",
        "colab_type": "code",
        "outputId": "6732d94d-31a0-4676-ba75-caafe95a1e83",
        "colab": {
          "base_uri": "https://localhost:8080/",
          "height": 498
        }
      },
      "source": [
        "fig , ax = plt.subplots(nrows =2 ,figsize =(10,8))\n",
        "sns.distplot(df['ANALWT_C'],ax =ax[0])\n",
        "sns.distplot((df['ANALWT_C'])**0.6,ax=ax[1])\n",
        "plt.show()"
      ],
      "execution_count": 12,
      "outputs": [
        {
          "output_type": "display_data",
          "data": {
            "image/png": "[encoded data removed]",
            "text/plain": [
              "<Figure size 720x576 with 2 Axes>"
            ]
          },
          "metadata": {
            "tags": [],
            "needs_background": "light"
          }
        }
      ]
    },
    {
      "cell_type": "code",
      "metadata": {
        "id": "Iyt51tbcktNJ",
        "colab_type": "code",
        "colab": {}
      },
      "source": [
        "from sklearn.ensemble import ExtraTreesClassifier\n",
        "from sklearn.model_selection import train_test_split\n",
        "from sklearn.metrics import confusion_matrix , plot_roc_curve"
      ],
      "execution_count": 0,
      "outputs": []
    },
    {
      "cell_type": "code",
      "metadata": {
        "id": "Gtg1UyWwfoVa",
        "colab_type": "code",
        "colab": {}
      },
      "source": [
        "from imblearn.over_sampling import SMOTE\n",
        "smote = SMOTE()\n",
        "#X_re ,y_re= smote.fit_resample(df.iloc[:,:-1],df.iloc[:,-1])"
      ],
      "execution_count": 0,
      "outputs": []
    },
    {
      "cell_type": "code",
      "metadata": {
        "id": "ZQ4gyg2TnZlz",
        "colab_type": "code",
        "colab": {}
      },
      "source": [
        "#x_train,x_test ,y_train,y_test = train_test_split(X_re,y_re,test_size=0.2 ,random_state = 42)\n",
        "x_train,x_test ,y_train,y_test = train_test_split(df.iloc[:,1:-1],df.iloc[:,-1], stratify=df.iloc[:,-1],test_size=0.2 ,random_state = 42)"
      ],
      "execution_count": 0,
      "outputs": []
    },
    {
      "cell_type": "code",
      "metadata": {
        "id": "OMF2SJzYhTF4",
        "colab_type": "code",
        "colab": {
          "base_uri": "https://localhost:8080/",
          "height": 71
        },
        "outputId": "78179f25-1ac5-4f20-b3e0-9de2c251a97c"
      },
      "source": [
        "X_re ,y_re= smote.fit_resample(x_train,y_train)"
      ],
      "execution_count": 51,
      "outputs": [
        {
          "output_type": "stream",
          "text": [
            "/usr/local/lib/python3.6/dist-packages/sklearn/utils/deprecation.py:87: FutureWarning: Function safe_indexing is deprecated; safe_indexing is deprecated in version 0.22 and will be removed in version 0.24.\n",
            "  warnings.warn(msg, category=FutureWarning)\n"
          ],
          "name": "stderr"
        }
      ]
    },
    {
      "cell_type": "code",
      "metadata": {
        "id": "mEuXQTYdnq5H",
        "colab_type": "code",
        "outputId": "7b1148bc-3f60-4094-eaca-9949c8af9c4f",
        "colab": {
          "base_uri": "https://localhost:8080/",
          "height": 153
        }
      },
      "source": [
        "clf = ExtraTreesClassifier()\n",
        "clf.fit(X_re,y_re)"
      ],
      "execution_count": 54,
      "outputs": [
        {
          "output_type": "execute_result",
          "data": {
            "text/plain": [
              "ExtraTreesClassifier(bootstrap=False, ccp_alpha=0.0, class_weight=None,\n",
              "                     criterion='gini', max_depth=None, max_features='auto',\n",
              "                     max_leaf_nodes=None, max_samples=None,\n",
              "                     min_impurity_decrease=0.0, min_impurity_split=None,\n",
              "                     min_samples_leaf=1, min_samples_split=2,\n",
              "                     min_weight_fraction_leaf=0.0, n_estimators=100,\n",
              "                     n_jobs=None, oob_score=False, random_state=None, verbose=0,\n",
              "                     warm_start=False)"
            ]
          },
          "metadata": {
            "tags": []
          },
          "execution_count": 54
        }
      ]
    },
    {
      "cell_type": "code",
      "metadata": {
        "id": "vJSSAecnnyep",
        "colab_type": "code",
        "outputId": "c93db296-34a5-4c04-8f34-18d3bd9fba43",
        "colab": {
          "base_uri": "https://localhost:8080/",
          "height": 34
        }
      },
      "source": [
        "clf.score(x_test,y_test)"
      ],
      "execution_count": 55,
      "outputs": [
        {
          "output_type": "execute_result",
          "data": {
            "text/plain": [
              "0.94425"
            ]
          },
          "metadata": {
            "tags": []
          },
          "execution_count": 55
        }
      ]
    },
    {
      "cell_type": "code",
      "metadata": {
        "id": "s5EcU_kgoFks",
        "colab_type": "code",
        "outputId": "251f570c-b2eb-457c-931e-079410ad94a6",
        "colab": {
          "base_uri": "https://localhost:8080/",
          "height": 51
        }
      },
      "source": [
        "confusion_matrix(y_test, clf.predict(x_test))"
      ],
      "execution_count": 56,
      "outputs": [
        {
          "output_type": "execute_result",
          "data": {
            "text/plain": [
              "array([[7232,  210],\n",
              "       [ 236,  322]])"
            ]
          },
          "metadata": {
            "tags": []
          },
          "execution_count": 56
        }
      ]
    },
    {
      "cell_type": "code",
      "metadata": {
        "id": "AI_pnX2YoLmN",
        "colab_type": "code",
        "outputId": "e6482dd4-6159-4604-a087-d56f1d07fd48",
        "colab": {
          "base_uri": "https://localhost:8080/",
          "height": 296
        }
      },
      "source": [
        "plot_roc_curve( clf,x_test,y_test)"
      ],
      "execution_count": 46,
      "outputs": [
        {
          "output_type": "execute_result",
          "data": {
            "text/plain": [
              "<sklearn.metrics._plot.roc_curve.RocCurveDisplay at 0x7f8cf0605e10>"
            ]
          },
          "metadata": {
            "tags": []
          },
          "execution_count": 46
        },
        {
          "output_type": "display_data",
          "data": {
            "image/png": "[encoded data removed]",
            "text/plain": [
              "<Figure size 432x288 with 1 Axes>"
            ]
          },
          "metadata": {
            "tags": [],
            "needs_background": "light"
          }
        }
      ]
    },
    {
      "cell_type": "code",
      "metadata": {
        "id": "aXNlwox3M0xd",
        "colab_type": "code",
        "colab": {}
      },
      "source": [
        ""
      ],
      "execution_count": 0,
      "outputs": []
    }
  ]
}